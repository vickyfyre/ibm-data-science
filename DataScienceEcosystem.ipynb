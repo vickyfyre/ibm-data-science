{
 "cells": [
  {
   "cell_type": "markdown",
   "id": "02d02e94-266e-4348-933a-5e11e23724f0",
   "metadata": {},
   "source": [
    "# Data Science Tools and Ecosystem"
   ]
  },
  {
   "cell_type": "markdown",
   "id": "01981a2e-29a5-46a0-9d77-56731acbf34c",
   "metadata": {},
   "source": [
    "In this notebook, we will explore various tools and components of the Data Science ecosystem."
   ]
  },
  {
   "cell_type": "markdown",
   "id": "551ad6b4-4bbf-4c1f-b3fc-d8a817a6bdf5",
   "metadata": {},
   "source": [
    "Some of the popular languages that Data Scientists use are:\n",
    "1. Python\n",
    "2. R\n",
    "3. SQL\n",
    "4. Julia\n",
    "5. Scala"
   ]
  },
  {
   "cell_type": "markdown",
   "id": "563e9cda-33cf-4135-a948-edb299092cd4",
   "metadata": {},
   "source": [
    "Some of the commonly used libraries used by Data Scientists include:\n",
    "- Pandas\n",
    "- NumPy\n",
    "- Matplotlib\n",
    "- Scikit-learn\n",
    "- TensorFlow"
   ]
  },
  {
   "cell_type": "markdown",
   "id": "53c771f4-cde5-4104-bef6-1ab6e4386a8b",
   "metadata": {},
   "source": [
    "| Data Science Tools      |\n",
    "|------------------------|\n",
    "| Jupyter Notebook       |\n",
    "| RStudio                |\n",
    "| Apache Zeppelin        |\n",
    "| Spyder                 |"
   ]
  },
  {
   "cell_type": "markdown",
   "id": "3a69c249-661e-4091-aef1-3780cdc807ec",
   "metadata": {},
   "source": [
    "### Examples of Arithmetic Expressions in Python"
   ]
  },
  {
   "cell_type": "code",
   "execution_count": 14,
   "id": "3bc25d1a-49c0-415d-b888-b97c5cb8a0a5",
   "metadata": {},
   "outputs": [
    {
     "data": {
      "text/plain": [
       "17"
      ]
     },
     "execution_count": 14,
     "metadata": {},
     "output_type": "execute_result"
    }
   ],
   "source": [
    "# This is a simple arithmetic expression to multiply then add integers\n",
    "(3 * 4) + 5"
   ]
  },
  {
   "cell_type": "code",
   "execution_count": 16,
   "id": "a00363bb-239b-4d12-b0a2-28721dad647f",
   "metadata": {},
   "outputs": [
    {
     "data": {
      "text/plain": [
       "3.3333333333333335"
      ]
     },
     "execution_count": 16,
     "metadata": {},
     "output_type": "execute_result"
    }
   ],
   "source": [
    "# This will convert 200 minutes to hours by dividing by 60\n",
    "200 / 60"
   ]
  },
  {
   "cell_type": "markdown",
   "id": "9c5197fb-76ea-44d6-958d-0a473b3a3956",
   "metadata": {},
   "source": [
    "**Objectives:**\n",
    "- List popular languages for Data Science\n",
    "- List commonly used libraries by Data Scientists\n",
    "- Demonstrate arithmetic expressions in Python\n",
    "- Show how to convert minutes to hours using Python code"
   ]
  },
  {
   "cell_type": "markdown",
   "id": "1fe235db-f0b4-4057-8a14-eda4b7f5c5a4",
   "metadata": {},
   "source": [
    "## Author\n",
    "Vignesh S"
   ]
  },
  {
   "cell_type": "code",
   "execution_count": null,
   "id": "667f60d8-4abe-4311-87c5-f6e07d035e5c",
   "metadata": {},
   "outputs": [],
   "source": []
  }
 ],
 "metadata": {
  "kernelspec": {
   "display_name": "Python 3 (ipykernel)",
   "language": "python",
   "name": "python3"
  },
  "language_info": {
   "codemirror_mode": {
    "name": "ipython",
    "version": 3
   },
   "file_extension": ".py",
   "mimetype": "text/x-python",
   "name": "python",
   "nbconvert_exporter": "python",
   "pygments_lexer": "ipython3",
   "version": "3.12.4"
  }
 },
 "nbformat": 4,
 "nbformat_minor": 5
}
